{
 "cells": [
  {
   "cell_type": "markdown",
   "id": "0da52b8b-3a3c-4596-9cbc-b6c7208e61f6",
   "metadata": {},
   "source": [
    "Q1, Create a vehicle class with an init method having instance variables as name_of_vehicle, max_speed\n",
    "and average_of_vehicle."
   ]
  },
  {
   "cell_type": "code",
   "execution_count": 1,
   "id": "f801ad62-157b-4be1-9ec3-55fc9d6bae49",
   "metadata": {},
   "outputs": [],
   "source": [
    "class Vehicle:\n",
    "    def __init__(self, name_of_vehicle, max_speed, average_of_vehicle):\n",
    "        self.name_of_vehicle = name_of_vehicle\n",
    "        self.max_speed = max_speed\n",
    "        self.average_of_vehicle = average_of_vehicle\n"
   ]
  },
  {
   "cell_type": "code",
   "execution_count": 4,
   "id": "7ba13145-f20b-4231-b624-ffb2f17d2f3b",
   "metadata": {},
   "outputs": [],
   "source": [
    "car = Vehicle(\"Car\", 200, 40)\n",
    "bike= Vehicle(\"Bike\", 180,90)"
   ]
  },
  {
   "cell_type": "code",
   "execution_count": 3,
   "id": "0cccba7d-0f21-44fb-b46a-60a9ad09bce5",
   "metadata": {},
   "outputs": [
    {
     "name": "stdout",
     "output_type": "stream",
     "text": [
      "Car\n",
      "200\n",
      "40\n"
     ]
    }
   ],
   "source": [
    "print(car.name_of_vehicle)        # Output: Car\n",
    "print(car.max_speed)              # Output: 200\n",
    "print(car.average_of_vehicle)     # Output: 40\n"
   ]
  },
  {
   "cell_type": "code",
   "execution_count": 5,
   "id": "29c8b7ee-5d07-42fb-a071-a6dc48a386da",
   "metadata": {},
   "outputs": [
    {
     "name": "stdout",
     "output_type": "stream",
     "text": [
      "Bike\n",
      "180\n",
      "90\n"
     ]
    }
   ],
   "source": [
    "print(bike.name_of_vehicle)        # Output: bike\n",
    "print(bike.max_speed)              # Output: 180\n",
    "print(bike.average_of_vehicle)     # Output: 90\n"
   ]
  },
  {
   "cell_type": "raw",
   "id": "b17316cd-91fb-4ec3-ab3a-992cd548698c",
   "metadata": {},
   "source": []
  },
  {
   "cell_type": "raw",
   "id": "34e92807-58ae-4b13-9cfb-567c4de7e388",
   "metadata": {},
   "source": []
  },
  {
   "cell_type": "markdown",
   "id": "a8309ca6-1bf5-4ff5-abe2-ab8038337290",
   "metadata": {},
   "source": [
    "Q2. Create a child class car from the vehicle class created in Que 1, which will inherit the vehicle class.\n",
    "Create a method named seating_capacity which takes capacity as an argument and returns the name of\n",
    "the vehicle and its seating capacity."
   ]
  },
  {
   "cell_type": "code",
   "execution_count": 8,
   "id": "5162a699-e8c9-42a0-a18c-c5e457db5813",
   "metadata": {},
   "outputs": [
    {
     "name": "stdout",
     "output_type": "stream",
     "text": [
      "The Maruti Swift has a seating capacity of 5 people.\n"
     ]
    }
   ],
   "source": [
    "class Car(Vehicle):\n",
    "    def seating_capacity(self, capacity):\n",
    "        return f\"The {self.name_of_vehicle} has a seating capacity of {capacity} people.\"\n",
    "my_car = Car(\"Maruti Swift\", 180, 30)\n",
    "print(my_car.seating_capacity(5))\n",
    "\n"
   ]
  },
  {
   "cell_type": "raw",
   "id": "7ff6e873-c1b7-457f-8a5b-5f8272dbfcf5",
   "metadata": {},
   "source": []
  },
  {
   "cell_type": "raw",
   "id": "ff01bce8-60b9-4918-b8c5-865f4d42adcc",
   "metadata": {},
   "source": []
  },
  {
   "cell_type": "markdown",
   "id": "db0ad8ca-b4f8-4d03-a629-f71c99e6e6b1",
   "metadata": {},
   "source": [
    "Q3. What is multiple inheritance? Write a python code to demonstrate multiple inheritance."
   ]
  },
  {
   "cell_type": "markdown",
   "id": "ed61d021-fecf-486c-8fa5-c63882c9d247",
   "metadata": {},
   "source": [
    "Multiple inheritance is a feature in object-oriented programming where a class can inherit attributes and methods from multiple parent classes. This allows a child class to inherit and combine the characteristics of multiple classes."
   ]
  },
  {
   "cell_type": "code",
   "execution_count": 9,
   "id": "9d0e8d94-04b4-4411-a285-d52733b83ec1",
   "metadata": {},
   "outputs": [],
   "source": [
    "#Here's an example Python code that demonstrates multiple inheritance:"
   ]
  },
  {
   "cell_type": "code",
   "execution_count": 11,
   "id": "759ba7f0-458b-4008-a9e3-dd6269b5e590",
   "metadata": {},
   "outputs": [
    {
     "name": "stdout",
     "output_type": "stream",
     "text": [
      "Maruti Alto is being driven.\n",
      "Boeing 747 is being driven.\n",
      "Boeing 747 is flying.\n"
     ]
    }
   ],
   "source": [
    "# Base class 1\n",
    "class Vehicle:\n",
    "    def __init__(self, name):\n",
    "        self.name = name\n",
    "\n",
    "    def drive(self):\n",
    "        print(f\"{self.name} is being driven.\")\n",
    "\n",
    "# Base class 2\n",
    "class FlyingVehicle:\n",
    "    def fly(self):\n",
    "        print(f\"{self.name} is flying.\")\n",
    "\n",
    "class Car(Vehicle):\n",
    "    def __init__(self, name):\n",
    "        super().__init__(name)\n",
    "\n",
    "class Airplane(Vehicle, FlyingVehicle):\n",
    "    def __init__(self, name):\n",
    "        super().__init__(name)\n",
    "\n",
    "my_car = Car(\"Maruti Alto\")\n",
    "my_car.drive()\n",
    "\n",
    "my_airplane = Airplane(\"Boeing 747\")\n",
    "my_airplane.drive()\n",
    "my_airplane.fly()\n"
   ]
  },
  {
   "cell_type": "raw",
   "id": "6eec9508-e2b6-4d17-a5f9-975dbf6a62d6",
   "metadata": {},
   "source": []
  },
  {
   "cell_type": "raw",
   "id": "f5876c20-8b3d-45c0-91a3-1ae8ff837b8e",
   "metadata": {},
   "source": []
  },
  {
   "cell_type": "markdown",
   "id": "7d7830f7-17ab-46e1-a570-0b40f6e67ff0",
   "metadata": {},
   "source": [
    "Q4. What are getter and setter in python? Create a class and create a getter and a setter method in this\n",
    "class."
   ]
  },
  {
   "cell_type": "markdown",
   "id": "ad10d65c-e20d-4d73-9eff-d12061721fc7",
   "metadata": {},
   "source": [
    "In Python, getters and setters are methods used to access and modify the values of class attributes (instance variables). They provide a way to encapsulate attribute access and allow control over how attributes are read and modified.\n",
    "\n"
   ]
  },
  {
   "cell_type": "code",
   "execution_count": 13,
   "id": "ab1f0b7a-b857-4a3c-bb6f-5aa17448c562",
   "metadata": {},
   "outputs": [],
   "source": [
    "#Here's an example of a class called \"Person\" with a getter and a setter method:"
   ]
  },
  {
   "cell_type": "code",
   "execution_count": 14,
   "id": "ddf4f3da-01e6-4c38-98fc-d815699852a1",
   "metadata": {},
   "outputs": [],
   "source": [
    "class Person:\n",
    "    def __init__(self, name):\n",
    "        self._name = name\n",
    "\n",
    "    def get_name(self):\n",
    "        return self._name\n",
    "\n",
    "    def set_name(self, name):\n",
    "        self._name = name\n"
   ]
  },
  {
   "cell_type": "code",
   "execution_count": 15,
   "id": "297ec5f3-91b0-4209-9b73-02af0377bd45",
   "metadata": {},
   "outputs": [
    {
     "name": "stdout",
     "output_type": "stream",
     "text": [
      "Anand Bajpai\n",
      "Mithila Palkar\n"
     ]
    }
   ],
   "source": [
    "person = Person(\"Anand Bajpai\")\n",
    "print(person.get_name())  # Output: Anand Bajpai\n",
    "\n",
    "person.set_name(\"Mithila Palkar\")\n",
    "print(person.get_name())  # Output: Mithila Palkar\n"
   ]
  },
  {
   "cell_type": "raw",
   "id": "2d838767-3968-4579-9a8b-659679236d87",
   "metadata": {},
   "source": []
  },
  {
   "cell_type": "markdown",
   "id": "c417be35-80da-4d54-9d1f-a455f2117147",
   "metadata": {},
   "source": [
    "Let's create a class Personality with a private attribute age, and then define getter and setter methods for age:"
   ]
  },
  {
   "cell_type": "code",
   "execution_count": 16,
   "id": "72f7e959-f10c-456a-aef8-93d70523abe1",
   "metadata": {},
   "outputs": [
    {
     "name": "stdout",
     "output_type": "stream",
     "text": [
      "25\n"
     ]
    }
   ],
   "source": [
    "class Personality:\n",
    "    def __init__(self, name, age):\n",
    "        self.name = name\n",
    "        self._age = age  # Private attribute, conventionally denoted with a single underscore\n",
    "\n",
    "    def get_age(self):\n",
    "        return self._age\n",
    "\n",
    "    def set_age(self, new_age):\n",
    "        if new_age < 0:\n",
    "            raise ValueError(\"Age cannot be negative.\")\n",
    "        self._age = new_age\n",
    "\n",
    "# Creating an instance of the Person class\n",
    "person1 = Personality(\"Anand\", 25)\n",
    "\n",
    "# Using the getter to retrieve the age\n",
    "print(person1.get_age())  # Output: 25\n",
    "\n",
    "# Using the setter to modify the age\n",
    "person1.set_age(35)\n",
    "\n",
    "# Trying to set a negative age (which will raise an error)\n",
    "# Uncomment the following line to see the error\n",
    "# person1.set_age(-5)\n"
   ]
  },
  {
   "cell_type": "raw",
   "id": "88c25553-ec3a-45cc-8821-2001b1bae579",
   "metadata": {},
   "source": []
  },
  {
   "cell_type": "raw",
   "id": "5778956f-fa95-4b59-aaf3-14971f2c90af",
   "metadata": {},
   "source": []
  },
  {
   "cell_type": "markdown",
   "id": "9862a15e-459d-4f75-a735-c89a27db5183",
   "metadata": {},
   "source": [
    "Q5.What is method overriding in python? Write a python code to demonstrate method overriding."
   ]
  },
  {
   "cell_type": "markdown",
   "id": "472f40d7-75c4-450e-8d64-757b33f192ad",
   "metadata": {},
   "source": [
    "Method overriding is a concept in object-oriented programming where a subclass provides its own implementation of a method that is already defined in its parent class. By overriding a method, the subclass can modify or extend the behavior of the inherited method according to its specific requirements.\n",
    "\n"
   ]
  },
  {
   "cell_type": "code",
   "execution_count": 17,
   "id": "b4b77b22-ed0c-4500-b8bf-56305e38d8e3",
   "metadata": {},
   "outputs": [],
   "source": [
    "#Here's an example Python code that demonstrates method overriding:"
   ]
  },
  {
   "cell_type": "code",
   "execution_count": 25,
   "id": "d7e1a167-02e4-4852-b393-4d2d9d3482c8",
   "metadata": {},
   "outputs": [
    {
     "name": "stdout",
     "output_type": "stream",
     "text": [
      "The fruit is either sweet or sour.\n",
      "The apple is sweet.\n",
      "The orange is sour.\n"
     ]
    }
   ],
   "source": [
    "class Fruit:\n",
    "    def taste(self):\n",
    "        print(\"The fruit is either sweet or sour.\")\n",
    "\n",
    "class Apple(Fruit):\n",
    "    def taste(self):\n",
    "        print(\"The apple is sweet.\")\n",
    "\n",
    "class Orange(Fruit):\n",
    "    def taste(self):\n",
    "        print(\"The orange is sour.\")\n",
    "\n",
    "# Creating instances of the classes\n",
    "fruit = Fruit()\n",
    "apple = Apple()\n",
    "orange = Orange()\n",
    "\n",
    "# Calling the sound method on the instances\n",
    "fruit.taste()  # Output: The fruit is sweet\n",
    "apple.taste()     # Output: The apple is sweet.\n",
    "orange.taste()     # Output: The orange is sour and tangy.\n"
   ]
  },
  {
   "cell_type": "code",
   "execution_count": null,
   "id": "e9495882-400a-4e60-ae88-9724013fa5ac",
   "metadata": {},
   "outputs": [],
   "source": []
  }
 ],
 "metadata": {
  "kernelspec": {
   "display_name": "Python 3 (ipykernel)",
   "language": "python",
   "name": "python3"
  },
  "language_info": {
   "codemirror_mode": {
    "name": "ipython",
    "version": 3
   },
   "file_extension": ".py",
   "mimetype": "text/x-python",
   "name": "python",
   "nbconvert_exporter": "python",
   "pygments_lexer": "ipython3",
   "version": "3.10.8"
  }
 },
 "nbformat": 4,
 "nbformat_minor": 5
}
